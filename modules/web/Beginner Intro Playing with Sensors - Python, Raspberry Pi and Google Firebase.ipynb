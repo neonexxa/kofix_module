{
 "cells": [
  {
   "cell_type": "markdown",
   "metadata": {},
   "source": [
    "![alt text](../../factory/img/kofixcover.png \"Kofix Technologies Resources\")"
   ]
  },
  {
   "cell_type": "markdown",
   "metadata": {},
   "source": [
    "# Sensors with Pi Basic"
   ]
  },
  {
   "cell_type": "markdown",
   "metadata": {},
   "source": [
    "#### Details"
   ]
  },
  {
   "cell_type": "markdown",
   "metadata": {},
   "source": [
    "Level       : Beginer"
   ]
  },
  {
   "cell_type": "markdown",
   "metadata": {},
   "source": [
    "Requirement : Basic programming"
   ]
  },
  {
   "cell_type": "markdown",
   "metadata": {},
   "source": [
    "Duration    : Normally 1 full day - 2 day"
   ]
  },
  {
   "cell_type": "markdown",
   "metadata": {},
   "source": [
    "Syllabus covered : \n",
    "    - Python Intro with Libraries\n",
    "    - Google firebase\n",
    "    - Sensors (temperature/vibration/Light)\n",
    "    - Flask (Simple Dashboard Application)"
   ]
  },
  {
   "cell_type": "markdown",
   "metadata": {},
   "source": [
    "#### Tentative"
   ]
  },
  {
   "cell_type": "markdown",
   "metadata": {},
   "source": [
    "| Days   | Time              | Programme                          |\n",
    "| ------ |:-----------------:| ----------------------------------:|\n",
    "| Day 1  | 9.15 am - 9.25 am | Get Started                        |\n",
    "|    ^   | 9.25 am - 12.30 pm| General Intro with Python          |\n",
    "|    ^   | 12.30 pm - 2.00 pm| Break + Rest                       |\n",
    "|    ^   | 2.00 pm - 5.00 pm | GPIO and Pin Pi Intro              |\n",
    "|    ^   |         ^         | Project 1: Listening to sensors    |\n",
    "|    ^   |         ^         | Project 2: (On Request)            |\n",
    "| Day 2  | 9.15 am - 12.30 pm| Flask Intro + practical(interfaces)|\n",
    "|    ^   | 12.30 pm - 2.00 pm| Break + Rest                       |\n",
    "|    ^   | 2.00 pm - 5.00 pm | Python integration with Firebase   |\n",
    "|    ^   |         ^         | Python integration with Firebase   |"
   ]
  }
 ],
 "metadata": {
  "kernelspec": {
   "display_name": "Python 3",
   "language": "python",
   "name": "python3"
  },
  "language_info": {
   "codemirror_mode": {
    "name": "ipython",
    "version": 3
   },
   "file_extension": ".py",
   "mimetype": "text/x-python",
   "name": "python",
   "nbconvert_exporter": "python",
   "pygments_lexer": "ipython3",
   "version": "3.6.2"
  }
 },
 "nbformat": 4,
 "nbformat_minor": 2
}
