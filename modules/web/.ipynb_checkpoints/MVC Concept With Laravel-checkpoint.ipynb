{
 "cells": [
  {
   "cell_type": "markdown",
   "metadata": {},
   "source": [
    "![alt text](../../factory/img/kofixcover.png \"Kofix Technologies Resources\")"
   ]
  },
  {
   "cell_type": "markdown",
   "metadata": {},
   "source": [
    "# Laravel Basic"
   ]
  },
  {
   "cell_type": "markdown",
   "metadata": {},
   "source": [
    "#### Details"
   ]
  },
  {
   "cell_type": "markdown",
   "metadata": {},
   "source": [
    "Level       : Beginer"
   ]
  },
  {
   "cell_type": "markdown",
   "metadata": {},
   "source": [
    "Requirement : Basic PHP, HTML, CSS"
   ]
  },
  {
   "cell_type": "markdown",
   "metadata": {},
   "source": [
    "Duration    : Normally 2 full days"
   ]
  },
  {
   "cell_type": "markdown",
   "metadata": {},
   "source": [
    "Syllabus covered : \n",
    "    - Laravel intro\n",
    "    - Sql schema with laravel\n",
    "    - Authentication\n",
    "    - RESTful Laravel\n",
    "    - Crud data"
   ]
  },
  {
   "cell_type": "markdown",
   "metadata": {},
   "source": [
    "#### Tentative"
   ]
  },
  {
   "cell_type": "markdown",
   "metadata": {},
   "source": [
    "| Days   | Time              | Programme                          |\n",
    "| ------ |:-----------------:| ----------------------------------:|\n",
    "| Day 1  | 9.15 am - 9.25 am | Get Started                        |\n",
    "|    ^   | 9.25 am - 12.30 pm| Installation                       |\n",
    "|    ^   |         ^         | Launch Project                     |\n",
    "|    ^   |         ^         | Introduction to Laravel            |\n",
    "|    ^   | 12.30 pm - 2.00 pm| Break + Rest                       |\n",
    "|    ^   | 2.00 pm - 5.00 pm | Fundamental of Laravel             |\n",
    "|    ^   |         ^         | Artisan Helper                     |\n",
    "|    ^   |         ^         | Migration                          |\n",
    "|    ^   |         ^         | Simple Aunthentication             |\n",
    "| Day 2  | 9.15 am - 12.30 pm| CRUD(Create, Read, Update, Delete) |\n",
    "|    ^   |         ^         | Break + Rest                       |\n",
    "|    ^   |         ^         | Continuation of CRUD               |"
   ]
  }
 ],
 "metadata": {
  "kernelspec": {
   "display_name": "Python 3",
   "language": "python",
   "name": "python3"
  },
  "language_info": {
   "codemirror_mode": {
    "name": "ipython",
    "version": 3
   },
   "file_extension": ".py",
   "mimetype": "text/x-python",
   "name": "python",
   "nbconvert_exporter": "python",
   "pygments_lexer": "ipython3",
   "version": "3.6.2"
  }
 },
 "nbformat": 4,
 "nbformat_minor": 2
}
