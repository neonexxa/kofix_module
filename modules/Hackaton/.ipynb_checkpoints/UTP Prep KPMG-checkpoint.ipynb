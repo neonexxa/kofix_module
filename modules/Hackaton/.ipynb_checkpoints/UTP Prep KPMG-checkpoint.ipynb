{
 "cells": [
  {
   "cell_type": "markdown",
   "metadata": {},
   "source": [
    "![alt text](../../factory/img/kofixcover.png \"Kofix Technologies Resources\")"
   ]
  },
  {
   "cell_type": "markdown",
   "metadata": {},
   "source": [
    "# UTP Prep Hackaton"
   ]
  },
  {
   "cell_type": "markdown",
   "metadata": {},
   "source": [
    "#### Module Overview\n",
    "\n",
    "Target group: Hackaton participant, developers & innovators, sales & business presenters\n",
    "\n",
    "\n",
    "#### Objectives\n",
    "Provide participants with basic experience and spirit for innovation and ideation challenge \n",
    "\n",
    "#### Expected outcomes\n",
    "Participants will be open and creative in solving real world problems, delivering ideas and business solution, and improve teamwork, improvice technical skills, open to learn and understanding towards surrounding.   \n",
    "\n",
    "#### Assessment Plan\n",
    "- Technical Exposure\n",
    "- Business Exposure\n",
    "- Problem Understanding\n",
    "- Critical Impact delivery\n",
    "- Communication Skill\n",
    "- Solution wise (feasability,comercial value, demands and market standing) \n",
    "\n",
    "#### Activities/Strategies/Methods\n",
    "- Test APIs n practical training on APIs consumption\n",
    "- Hackaton Intro \n",
    "- BMC guides briefing\n",
    "- begin quick hack with list of problems\n",
    "- BMC session by participant (allow them to feel throwing out their ideas and business concept)\n",
    "- Remind them bit by bit on the critical aspect and ideation challenge \n",
    "- Prototype development session\n",
    "- wrapping up (last call preping for pitching session)\n",
    "- lucky draw each teams to present their ideas. "
   ]
  },
  {
   "cell_type": "markdown",
   "metadata": {},
   "source": [
    "#### Details"
   ]
  },
  {
   "cell_type": "markdown",
   "metadata": {},
   "source": [
    "Requirement : None"
   ]
  },
  {
   "cell_type": "markdown",
   "metadata": {},
   "source": [
    "Duration    : 1 full day"
   ]
  },
  {
   "cell_type": "markdown",
   "metadata": {},
   "source": [
    "Syllabus covered : \n",
    "    - Practical API Consumption\n",
    "    - Brief on Hackaton\n",
    "    - BMC Guide\n",
    "    - Mini-quick hackaton"
   ]
  },
  {
   "cell_type": "markdown",
   "metadata": {},
   "source": [
    "#### Tentative"
   ]
  },
  {
   "cell_type": "markdown",
   "metadata": {},
   "source": [
    "| Days   | Time                | Programme                             |\n",
    "| ------ |:-------------------:| -------------------------------------:|\n",
    "| Day 1  | 9.15 am - 10.15 am  | Practical API Consumption             |\n",
    "|    ^   | 10.15 am - 11.00 am | Hackaton Brief and Experience sharing |\n",
    "|    ^   | 11.00 am - 11.30 am | BMC Guide                             |\n",
    "|    ^   | 11.30 am - 12.30 pm | Mini-quick hackaton                   |\n",
    "|    ^   |         ^           | Brief Introduction on steps needed    |\n",
    "|    ^   |         ^           | Students will splits into teams of 3  |\n",
    "|    ^   |         ^           | Few list of public APIs will be given |\n",
    "|    ^   |         ^           | Sample of 4/5 Problem Statement       |\n",
    "|    ^   |         ^           | 45 min bmc session                    |\n",
    "|    ^   | 12.30 pm - 2.00 pm  | Break + Rest                          |\n",
    "|    ^   | 2.00 pm - 4.30 pm   | 2h prototype development session      |\n",
    "|    ^   |         ^           | 30 min pitching prep                  |\n",
    "|    ^   | 4.30 pm - 5.00 pm   | 5-10 Min Pitching Session each team   |"
   ]
  }
 ],
 "metadata": {
  "kernelspec": {
   "display_name": "Python 3",
   "language": "python",
   "name": "python3"
  },
  "language_info": {
   "codemirror_mode": {
    "name": "ipython",
    "version": 3
   },
   "file_extension": ".py",
   "mimetype": "text/x-python",
   "name": "python",
   "nbconvert_exporter": "python",
   "pygments_lexer": "ipython3",
   "version": "3.7.4"
  }
 },
 "nbformat": 4,
 "nbformat_minor": 2
}
