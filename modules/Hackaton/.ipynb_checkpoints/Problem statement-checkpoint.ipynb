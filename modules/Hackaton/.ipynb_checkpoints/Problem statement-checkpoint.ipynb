{
 "cells": [
  {
   "cell_type": "markdown",
   "metadata": {},
   "source": [
    "![alt text](../../factory/img/kofixcover.png \"Kofix Technologies Resources\")"
   ]
  },
  {
   "cell_type": "markdown",
   "metadata": {},
   "source": [
    "# UTP Prep Hackaton"
   ]
  },
  {
   "cell_type": "markdown",
   "metadata": {},
   "source": [
    "### Problem statement\n",
    "\n",
    "#### Category E-Commerce\n",
    "- Local business Ent (SME)\n",
    "- Land of Uncles & Unties (old Skool)\n",
    "- Games (Gamification concept for Business)\n",
    "\n",
    "#### Category Entertainment\n",
    "- p2p and similar issue (torrent,file share, cloud storage)\n",
    "- ticketing (movies, events)\n",
    "- live streamer (games, tournament, sports)\n",
    "\n",
    "#### Category Transportation\n",
    "- TaaS (Transport as a Service)\n",
    "- DaaS (Delivery as a Service)\n",
    "- NaaS (Navigation as a Service)\n",
    "\n",
    "#### Category Medical\n",
    "- HaaS (Health as a Service)"
   ]
  },
  {
   "cell_type": "markdown",
   "metadata": {},
   "source": [
    "#### Details"
   ]
  },
  {
   "cell_type": "markdown",
   "metadata": {},
   "source": [
    "Duration    : 45 min BMC & Business Slide preparation , 2 hours prototype development"
   ]
  },
  {
   "cell_type": "markdown",
   "metadata": {},
   "source": [
    "#### Data Public API list\n",
    "\n",
    "Development\n",
    "- (Banking)bnm currency api -> https://api.bnm.gov.my/portal\n",
    "- (Banking and education) kijang emas -> https://api.bnm.gov.my/portal#tag/Kijang-Emas\n",
    "- (Banking)maybank sandbox  -> https://maybanksandbox.com/#/home\n",
    "- (Banking)open currency  -> https://currency-api.appspot.com/\n",
    "- (Banking)bursa api (Not free, apparently)\n",
    "- (ALL)google api -> https://developers.google.com/android/\n",
    "   - Maps       -> https://developers.google.com/maps/documentation/javascript/get-api-key\n",
    "   - Google Fit -> https://developers.google.com/fit/android/get-started\n",
    "   - Analytics  -> https://developers.google.com/analytics/\n",
    "   - Skyscanner -> https://blog.rapidapi.com/skyscanner-flight-api-incorporate-travel-data-into-your-app/\n",
    "- (Navigation)waze map  -> https://developers.google.com/waze/deeplinks\n",
    "- (Education)Mohe API -> https://store.oip.tm.com.my/apimanager/store/apis/info?name=MOHE-Malaysia&version=1.0&provider=admin@malaysia.open.data\n",
    "- (Ecommerce)Bookstore Api\n",
    "- (Ecommerce)shoope Api -> https://open.shopee.com/documents?module=63&type=2&id=51\n",
    "- (Ecommerce)lazada Api -> https://open.lazada.com/doc/doc.htm?spm=a2o9m.11193487.0.0.3ac413feoZWO65#?nodeId=11122&docId=107994\n",
    "- (Weather) yahoo weather index\n",
    "- (Entertainment) google radio garden api \n",
    "- (Entertainment) song lyric api\n",
    "- (Entertainment) youtube api (data, analytics, streaming) -> https://developers.google.com/youtube/code_samples\n",
    "- (Entertainment) spotify api -> https://developer.spotify.com/documentation/web-api/\n",
    "- (Entertainment) twitchtv api -> https://dev.twitch.tv/docs/v5/\n",
    "- (Entertainment) tgv api\n",
    "- (Entertainment) gcs api\n",
    "- (Entertainment) eventbrite api -> https://www.eventbrite.com/platform/api#/introduction/about-our-api\n",
    "- (Entertainment) vimeo api -> https://developer.vimeo.com/api/guides/start\n",
    "- (Entertainment) dacast api -> https://www.dacast.com/player-api-documentation/\n",
    "- (Social) twitter,facebook api -> https://developer.twitter.com/en/docs/api-reference-index , https://developers.facebook.com/docs/apis-and-sdks/\n",
    "- (Social) feedly, tumblr api -> https://www.tumblr.com/docs/en/api/v2\n",
    "- (Social) redit, disqus.. -> https://www.reddit.com/dev/api/, https://disqus.com/api/docs/\n",
    "- (Communication & Technology) Discord, Discord Bots -> https://support.discordapp.com/hc/en-us/articles/212889058-Discord-s-Official-API, https://discordbots.org/api/docs\n",
    "- (Communication & Technology) tawkto, live chat -> https://www.tawk.to/javascript-api/\n",
    "- (Communication & Technology) google calendar -> https://developers.google.com/calendar/overview\n",
    "- (Communication & Technology) vidyo api -> https://developer.vidyo.io/#/reference-guide\n",
    "- (Health) Fitness API -> https://www.programmableweb.com/news/top-10-fitness-apis-apple-health-fitbit-and-nike/analysis/2015/04/17\n",
    "- (housing) iproperty, property edge, bilik\n",
    "- (transportation) google flight api -> See Skyscanner\n",
    "- (transportation & ticketing) redbus & others -> https://www.programmableweb.com/category/tickets/api\n",
    "- (transportation) pos laju, ninja van api, deliber api\n",
    "- (transportation) ktmb api\n"
   ]
  },
  {
   "cell_type": "markdown",
   "metadata": {},
   "source": [
    "- List of other APIs  -> https://rapidapi.com/ "
   ]
  },
  {
   "cell_type": "code",
   "execution_count": null,
   "metadata": {},
   "outputs": [],
   "source": []
  }
 ],
 "metadata": {
  "kernelspec": {
   "display_name": "Python 3",
   "language": "python",
   "name": "python3"
  },
  "language_info": {
   "codemirror_mode": {
    "name": "ipython",
    "version": 3
   },
   "file_extension": ".py",
   "mimetype": "text/x-python",
   "name": "python",
   "nbconvert_exporter": "python",
   "pygments_lexer": "ipython3",
   "version": "3.7.4"
  }
 },
 "nbformat": 4,
 "nbformat_minor": 2
}
