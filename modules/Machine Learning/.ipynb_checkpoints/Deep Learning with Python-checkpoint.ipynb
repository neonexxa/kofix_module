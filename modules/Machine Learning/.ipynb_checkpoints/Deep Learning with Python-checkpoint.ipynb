{
 "cells": [
  {
   "cell_type": "markdown",
   "metadata": {},
   "source": [
    "![alt text](../../factory/img/kofixcover.png \"Kofix Technologies Resources\")"
   ]
  },
  {
   "cell_type": "markdown",
   "metadata": {},
   "source": [
    "# Deep Learning with Python"
   ]
  },
  {
   "cell_type": "markdown",
   "metadata": {},
   "source": [
    "#### Details"
   ]
  },
  {
   "cell_type": "markdown",
   "metadata": {},
   "source": [
    "Level       : Intermidiate"
   ]
  },
  {
   "cell_type": "markdown",
   "metadata": {},
   "source": [
    "Requirement : Basic programming"
   ]
  },
  {
   "cell_type": "markdown",
   "metadata": {},
   "source": [
    "Duration    : Normally 2 full day"
   ]
  },
  {
   "cell_type": "markdown",
   "metadata": {},
   "source": [
    "Syllabus covered : \n",
    "    - Neural network teories and practical (CNN RNN)\n",
    "    - Understanding data scienece concept\n",
    "    - Basic python usage\n",
    "    - Tensor flow\n",
    "    - Tuning Our Deep Learning"
   ]
  },
  {
   "cell_type": "markdown",
   "metadata": {},
   "source": [
    "#### Tentative"
   ]
  },
  {
   "cell_type": "markdown",
   "metadata": {},
   "source": [
    "| Days   | Time              | Programme                                     |\n",
    "| ------ |:-----------------:| ---------------------------------------------:|\n",
    "| Day 1  | 9.15 am - 9.25 am | Get Started with Neural Network               |\n",
    "|    ^   |         ^         | Neural Network Intuition                      |\n",
    "|    ^   |         ^         | Neural Network using Python Numpy             |\n",
    "|    ^   |         ^         | Evaluating Neural Network performance metrics |\n",
    "|    ^   | 1.30 pm - 2.30 pm | Break + Rest                                  |\n",
    "|    ^   | 2.30 pm - 5.30 pm | Case study using public dataset               |\n",
    "|    ^   |         ^         | Overfitting and Underfitting                  |\n",
    "|    ^   |         ^         | Convolutional Neural Network                  |\n",
    "|    ^   |         ^         | Recurrent Neural Network                      |\n",
    "| Day 2  | 9.15 am - 12.30 pm| Case study of Convolutional Neural Network                   |\n",
    "|    ^   |         ^         | Case study of Recurrent Neural Network                       |\n",
    "|    ^   |         ^         | Neural Network using Tensorflow                              |\n",
    "|    ^   |         ^         | Hands-on CNN: Classifying images                             |\n",
    "|    ^   | 1.30 pm - 2.30 pm | Break + Rest                                                 |\n",
    "|    ^   | 2.30 pm - 5.30 pm | Hands-on RNN: Machine writing poems                          |\n",
    "|    ^   |         ^         | Advanced: Regularization, Dropout, more Activation Functions |\n",
    "|    ^   |         ^         | Bonus: Playing around with Real Dataset                      |"
   ]
  }
 ],
 "metadata": {
  "kernelspec": {
   "display_name": "Python 3",
   "language": "python",
   "name": "python3"
  },
  "language_info": {
   "codemirror_mode": {
    "name": "ipython",
    "version": 3
   },
   "file_extension": ".py",
   "mimetype": "text/x-python",
   "name": "python",
   "nbconvert_exporter": "python",
   "pygments_lexer": "ipython3",
   "version": "3.6.2"
  }
 },
 "nbformat": 4,
 "nbformat_minor": 2
}
