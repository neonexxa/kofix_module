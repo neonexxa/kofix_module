{
 "cells": [
  {
   "cell_type": "markdown",
   "metadata": {},
   "source": [
    "![alt text](../factory/img/kofixcover.png \"Kofix Technologies Resources\")"
   ]
  },
  {
   "cell_type": "markdown",
   "metadata": {},
   "source": [
    "# Serverless web basic - Get my resume live in public"
   ]
  },
  {
   "cell_type": "markdown",
   "metadata": {},
   "source": [
    "#### Details"
   ]
  },
  {
   "cell_type": "markdown",
   "metadata": {},
   "source": [
    "Level       : Basic"
   ]
  },
  {
   "cell_type": "markdown",
   "metadata": {},
   "source": [
    "Requirement : Nothing"
   ]
  },
  {
   "cell_type": "markdown",
   "metadata": {},
   "source": [
    "Duration    : atleast half days"
   ]
  },
  {
   "cell_type": "markdown",
   "metadata": {},
   "source": [
    "Syllabus covered : \n",
    "    - What is Git and Public Hosting\n",
    "    - Client side scripting / programming\n",
    "    - Setting up demo application (web)\n",
    "    - DNS configuration"
   ]
  },
  {
   "cell_type": "markdown",
   "metadata": {},
   "source": [
    "#### Tentative"
   ]
  },
  {
   "cell_type": "markdown",
   "metadata": {},
   "source": [
    "| Days   | Time              | Programme                                   |\n",
    "| ------ |:-----------------:| -------------------------------------------:|\n",
    "| Day 1  | 9.15 am - 9.25 am | Get Started                                 |\n",
    "|    ^   | 9.25 am - 12.30 pm| Intro to git(general)                       |\n",
    "|    ^   |         ^         | My first git account                        |\n",
    "|    ^   |         ^         | Fast-paced practical git(pull/push/merge..) |\n",
    "|    ^   |         ^         | Get-started-web live in git hosting         |\n",
    "|    ^   | 12.30 pm - 2.00 pm| Break + Rest                                |\n",
    "|    ^   | 2.00 pm - 5.00 pm | Building my own resume                      |\n",
    "|    ^   |         ^         | Get it live                                 |\n",
    "|    ^   |         ^         | Get my first DNS (CNAME rerouting)          |"
   ]
  }
 ],
 "metadata": {
  "kernelspec": {
   "display_name": "Python 3",
   "language": "python",
   "name": "python3"
  },
  "language_info": {
   "codemirror_mode": {
    "name": "ipython",
    "version": 3
   },
   "file_extension": ".py",
   "mimetype": "text/x-python",
   "name": "python",
   "nbconvert_exporter": "python",
   "pygments_lexer": "ipython3",
   "version": "3.6.2"
  }
 },
 "nbformat": 4,
 "nbformat_minor": 2
}
