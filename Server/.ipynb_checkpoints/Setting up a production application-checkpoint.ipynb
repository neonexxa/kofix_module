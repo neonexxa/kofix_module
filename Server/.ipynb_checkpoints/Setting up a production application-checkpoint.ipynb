{
 "cells": [
  {
   "cell_type": "markdown",
   "metadata": {},
   "source": [
    "![alt text](../factory/img/kofixcover.png \"Kofix Technologies Resources\")"
   ]
  },
  {
   "cell_type": "markdown",
   "metadata": {},
   "source": [
    "# New Server Beginner"
   ]
  },
  {
   "cell_type": "markdown",
   "metadata": {},
   "source": [
    "#### Details"
   ]
  },
  {
   "cell_type": "markdown",
   "metadata": {},
   "source": [
    "Level       : Intermidiate"
   ]
  },
  {
   "cell_type": "markdown",
   "metadata": {},
   "source": [
    "Requirement : Basic linux"
   ]
  },
  {
   "cell_type": "markdown",
   "metadata": {},
   "source": [
    "Duration    : atleast 1 full days"
   ]
  },
  {
   "cell_type": "markdown",
   "metadata": {},
   "source": [
    "Syllabus covered : \n",
    "    - What is cloud?\n",
    "    - Hardware architecture\n",
    "    - engine and firewall configuration \n",
    "    - Dependencies installation\n",
    "    - Setting up demo application (web)\n",
    "    - DNS configuration\n",
    "    BONUS\n",
    "    - Setting up personal mailbox with own dns (myself@personaldomain.whatever)"
   ]
  },
  {
   "cell_type": "markdown",
   "metadata": {},
   "source": [
    "#### Tentative"
   ]
  },
  {
   "cell_type": "markdown",
   "metadata": {},
   "source": [
    "| Days   | Time              | Programme                          |\n",
    "| ------ |:-----------------:| ----------------------------------:|\n",
    "| Day 1  | 9.15 am - 9.25 am | Get Started                        |\n",
    "|    ^   | 9.25 am - 12.30 pm| Cloud Introduction                 |\n",
    "|    ^   |         ^         | Setting Up your first server       |\n",
    "|    ^   |         ^         | Firewall and protocol              |\n",
    "|    ^   | 12.30 pm - 2.00 pm| Break + Rest                       |\n",
    "|    ^   | 2.00 pm - 5.00 pm | Building a demo application (web)  |\n",
    "|    ^   |         ^         | Buying your first DNS              |\n",
    "|    ^   |         ^         | Get it live (www.yourowndns.com)   |\n",
    "| Day 2  | 9.15 am - 12.30 pm| Intro to SMTP protocol             |\n",
    "|    ^   |         ^         | Setting up my own mailbox          |\n",
    "|    ^   | 12.30 pm - 2.00 pm| Break + Rest                       |\n",
    "|    ^   | 2.00 pm - 5.00 pm | Get my subscription Ready (web)    |"
   ]
  }
 ],
 "metadata": {
  "kernelspec": {
   "display_name": "Python 3",
   "language": "python",
   "name": "python3"
  },
  "language_info": {
   "codemirror_mode": {
    "name": "ipython",
    "version": 3
   },
   "file_extension": ".py",
   "mimetype": "text/x-python",
   "name": "python",
   "nbconvert_exporter": "python",
   "pygments_lexer": "ipython3",
   "version": "3.6.2"
  }
 },
 "nbformat": 4,
 "nbformat_minor": 2
}
